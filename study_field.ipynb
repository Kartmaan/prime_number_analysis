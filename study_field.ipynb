{
 "cells": [
  {
   "cell_type": "markdown",
   "metadata": {},
   "source": [
    "# Champ d'étude sur les nombres premiers\n",
    "\n",
    "## Sommes des chiffres\n",
    "La somme des chiffres d'un nombre premier n'est jamais un \n",
    "multiple de 3 (sinon il serait divisible par 3). Une conjecture \n",
    "affirme que, hors les multiples de 3, **il est toujours possible \n",
    "de trouver un nombre premier dont la somme des chiffres est un \n",
    "nombre k donné** (k > 1)\n",
    "\n",
    "Par exemple, comme le montre le tableau ci-dessous, 8 peut s'écrire comme la somme des chiffres de 2 nombres premiers : 53 et 71.\n",
    "\n",
    "> Les chiffres 3 et 6 n'apparaissent pas dans le tableau car multiples de 3\n",
    "\n",
    "|2   |4   |5   |7   |8   |\n",
    "|---|---|---|---|---|\n",
    "|11   |13   |23   |43   |53   |\n",
    "|   |31   |41   |61   |71   |"
   ]
  },
  {
   "cell_type": "markdown",
   "metadata": {},
   "source": [
    "## Chiffres croissants\n",
    "Il y a exactement 100 nombres premiers dont tous les chiffres sont croissants. Puisqu'on ne peut pas dépasser 123456789, le nombre premier le plus grand respectant cette condition est 23456789."
   ]
  },
  {
   "cell_type": "markdown",
   "metadata": {},
   "source": [
    "## Somme paire ou impaire\n",
    "Une hypothèse d'Alexandre Gelfond affirme que **la somme des chiffres d'un nombre premier a autant de chance d'être paire qu'impaire**. En 2010 cette hypothèse est démontrée par Christian Mauduit et Joel Rivat"
   ]
  },
  {
   "cell_type": "markdown",
   "metadata": {},
   "source": [
    "## Motif en puissance de 2\n",
    "Elever 2 à une puissance `p`, où `p` est un nombre premier, et additionner le résultat à ce même nombre donne un autre nombre premier différent de `p` : \n",
    "\n",
    "$$2^{p} + p = \\text{nbr premier != p}$$\n",
    "\n",
    "Exemples :\n",
    "\n",
    "$$2^{5} + 5 = 37$$\n",
    "$$2^{9} + 9 = 521$$\n",
    "$$2^{15} + 15 = 32783$$"
   ]
  }
 ],
 "metadata": {
  "language_info": {
   "name": "python"
  }
 },
 "nbformat": 4,
 "nbformat_minor": 2
}
