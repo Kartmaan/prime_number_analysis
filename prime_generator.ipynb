{
 "cells": [
  {
   "cell_type": "markdown",
   "metadata": {},
   "source": [
    "Une manière naive de determiner si un nombre `n` est premier serait de le diviser de manière itérative par chacun des nombres inférieurs à lui-même. Si le nombre est divisble par l'un d'entre eux, alors il est composé (non premier), s'il n'est divisble par aucun d'entre eux il est alors premier. Mais ce processus, s'il peut convenir pour les petits nombres, présente l'inconvénient de s'avérer particulièrement lourd pour les grands nombres. En effet la quantité de calcul necessaire est toujours égale à `n-1`\n",
    "\n",
    "Une manière d'optimiser l'algorithme serait d'utiliser le théorème des diviseurs premiers qui stipule qu'**un nombre `n` est premier s'il n'est divisible par aucun nombre plus petit que sa racine carrée**. Le processus itératif peut être ainsi grandement réduit. \n",
    "\n",
    "Dans la fonction `is_prime` nous élevons `n` à une puissance de 0.5 car elever un nombre à une puissance de 0.5 revient à calculer sa racine carré, de plus cela nous évite d'importer le module `math`."
   ]
  },
  {
   "cell_type": "code",
   "execution_count": 3,
   "metadata": {},
   "outputs": [],
   "source": [
    "def is_prime(n):\n",
    "    if n <= 1:\n",
    "        return False\n",
    "    for i in range(2, int(n**0.5) + 1):\n",
    "        if n % i == 0:\n",
    "            return False\n",
    "    return True"
   ]
  },
  {
   "cell_type": "code",
   "execution_count": 4,
   "metadata": {},
   "outputs": [],
   "source": [
    "def prime_gen():\n",
    "    n = 2\n",
    "    while True:\n",
    "        if is_prime(n):\n",
    "            yield n\n",
    "        n += 1"
   ]
  },
  {
   "cell_type": "code",
   "execution_count": 5,
   "metadata": {},
   "outputs": [],
   "source": [
    "primes = prime_gen()"
   ]
  },
  {
   "cell_type": "code",
   "execution_count": 6,
   "metadata": {},
   "outputs": [
    {
     "name": "stdout",
     "output_type": "stream",
     "text": [
      "2 3 5 7 11 13 17 19 23 29 "
     ]
    }
   ],
   "source": [
    "for _ in range(10):\n",
    "    print(next(primes), end=\" \")"
   ]
  }
 ],
 "metadata": {
  "kernelspec": {
   "display_name": "lastpy",
   "language": "python",
   "name": "python3"
  },
  "language_info": {
   "codemirror_mode": {
    "name": "ipython",
    "version": 3
   },
   "file_extension": ".py",
   "mimetype": "text/x-python",
   "name": "python",
   "nbconvert_exporter": "python",
   "pygments_lexer": "ipython3",
   "version": "3.12.0"
  }
 },
 "nbformat": 4,
 "nbformat_minor": 2
}
