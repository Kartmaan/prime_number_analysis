{
 "cells": [
  {
   "cell_type": "markdown",
   "metadata": {},
   "source": [
    "# Champ d'étude sur les nombres premiers\n",
    "\n",
    "## Sommes des chiffres\n",
    "La somme des chiffres d'un nombre premier n'est jamais un \n",
    "multiple de 3 (sinon il serait divisible par 3). Une conjecture \n",
    "affirme que, hors les multiples de 3, **il est toujours possible \n",
    "de trouver un nombre premier dont la somme des chiffres est un \n",
    "nombre k donné** (k > 1)\n",
    "\n",
    "Par exemple, comme le montre le tableau ci-dessous, 8 peut s'écrire comme la somme des chiffres de 2 nombres premiers : 53 et 71.\n",
    "\n",
    "> Les chiffres 3 et 6 n'apparaissent pas dans le tableau car multiples de 3\n",
    "\n",
    "|2   |4   |5   |7   |8   |\n",
    "|---|---|---|---|---|\n",
    "|11   |13   |23   |43   |53   |\n",
    "|   |31   |41   |61   |71   |"
   ]
  },
  {
   "cell_type": "markdown",
   "metadata": {},
   "source": [
    "## Chiffres croissants\n",
    "Il y a exactement 100 nombres premiers dont tous les chiffres sont croissants. Puisqu'on ne peut pas dépasser 123456789, le nombre premier le plus grand respectant cette condition est 23456789."
   ]
  },
  {
   "cell_type": "markdown",
   "metadata": {},
   "source": [
    "## Somme paire ou impaire\n",
    "Une hypothèse d'Alexandre Gelfond affirme que **la somme des chiffres d'un nombre premier a autant de chance d'être paire qu'impaire**. En 2010 cette hypothèse est démontrée par Christian Mauduit et Joel Rivat"
   ]
  },
  {
   "cell_type": "markdown",
   "metadata": {},
   "source": [
    "## Motif en puissance de 2\n",
    "Elever 2 à une puissance `p`, où `p` est un nombre premier, et additionner le résultat à ce même nombre donne un autre nombre premier différent de `p` : \n",
    "\n",
    "$$2^{p} + p = \\text{nbr premier != p}$$\n",
    "\n",
    "Exemples :\n",
    "\n",
    "$$2^{5} + 5 = 37$$\n",
    "$$2^{9} + 9 = 521$$\n",
    "$$2^{15} + 15 = 32783$$"
   ]
  },
  {
   "cell_type": "markdown",
   "metadata": {},
   "source": [
    "La somme des chiffres d'un nombre permet de vérifier si ce nombre est divisble par 9 ou 3 :\n",
    "- Si la somme des chiffres d'un nombre est divisible par 9, le nombre l'est également\n",
    "- Si la somme des chiffres d'un nombre est divisible par 3, le nombre l'est également\n",
    "\n",
    "**Divisible par 9** :\n",
    "$$567 = 5 + 6 + 7 = 18$$\n",
    "$$18/9 = 2$$\n",
    "$$567/9 = 63$$\n",
    "\n",
    "**Divisible par 3** :\n",
    "$$123 = 1 + 2 + 3 = 6$$\n",
    "$$6/3 = 2$$\n",
    "$$123/3 = 41$$"
   ]
  },
  {
   "cell_type": "markdown",
   "metadata": {},
   "source": [
    "**Nombres de Harshad** : Un nombre de Harshad est un nombre divisible par la somme de ses chiffres. Ces nombres sont parfois appelés \"nombres joyeux\". Par exemple, 18 est un nombre de Harshad car 1 + 8 = 9 qui divise 18."
   ]
  }
 ],
 "metadata": {
  "language_info": {
   "name": "python"
  }
 },
 "nbformat": 4,
 "nbformat_minor": 2
}
