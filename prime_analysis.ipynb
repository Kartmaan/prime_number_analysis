{
 "cells": [
  {
   "cell_type": "markdown",
   "metadata": {},
   "source": [
    "# Prime number analysis"
   ]
  },
  {
   "cell_type": "markdown",
   "metadata": {},
   "source": [
    "## Presentation of the algorithm generating prime numbers\n",
    "A naive way to determine if a number `n` is prime would be to iteratively divide it by each of the numbers less than itself up to 2. If the number is divisible by any of them, then it is composite (not prime), if it is not divisible by any of them it is then prime. But this process, while it may be suitable for small numbers, has the disadvantage of being particularly cumbersome for large numbers. Indeed the amount of calculation required is always equal to `n-2`\n",
    "\n",
    "One way to optimize the algorithm would be to use the primality theorem which states that **a number `n` is prime if it is not divisible by any number smaller than its square root**. The iterative process can thus be greatly reduced.\n",
    "\n",
    ">If we decided to check the primality of the number 101 (which is indeed prime), the naive algorithm would require performing 99 operations (101-2), but using the primality theorem, `n` becomes equal to the square root of 101 is 10, so we only perform 8 operations (10-2) instead of 99, a saving of approximately 92% on calculation time.\n",
    "\n",
    "### Function overview\n",
    "The algorithm is divided into two functions:\n",
    "- `is_prime` allowing you to check if a number is prime\n",
    "- `prime_gen` returning a generator of an infinite sequence of prime numbers which can be iterated\n",
    "\n",
    "#### `is_prime`\n",
    "Allows you to check if a number `n` is prime using the primality theorem. In the function we raise `n` to a power of 0.5 because this amounts to calculating its square root, plus it saves us from importing modules such as `math` or `numpy`. So, the `for` loop goes through the values going from 2 to the square root of `n` and checks if `n` is divisible with at least one of them, if so the function returns False: `n` is not prime. If the function ends the sequence having failed to divide `n` with any of these values, then `n` is prime."
   ]
  },
  {
   "cell_type": "code",
   "execution_count": 33,
   "metadata": {},
   "outputs": [],
   "source": [
    "def is_prime(n):\n",
    "    if n <= 1:\n",
    "        return False\n",
    "    for i in range(2, int(n**0.5) + 1):\n",
    "        if n % i == 0:\n",
    "            return False\n",
    "    return True"
   ]
  },
  {
   "cell_type": "markdown",
   "metadata": {},
   "source": [
    "#### `prime_gen`\n",
    "This is a generating function, that is to say intended to become a generator. The function creates an infinite loop going through the numbers starting from 2 and checking, using the `is_prime` function, if each of them is prime. If this is the case, the value is returned with a `yield`. At the next requested element, the function resumes where it left off until the next `yield` encountered.\n",
    "\n",
    "The generator can then be created by assigning this function to a variable, `primes` in our case."
   ]
  },
  {
   "cell_type": "code",
   "execution_count": 34,
   "metadata": {},
   "outputs": [],
   "source": [
    "def prime_gen():\n",
    "    n = 2\n",
    "    while True:\n",
    "        if is_prime(n):\n",
    "            yield n\n",
    "        n += 1"
   ]
  },
  {
   "cell_type": "code",
   "execution_count": 35,
   "metadata": {},
   "outputs": [],
   "source": [
    "# Generator creation\n",
    "primes = prime_gen()"
   ]
  },
  {
   "cell_type": "code",
   "execution_count": 36,
   "metadata": {},
   "outputs": [
    {
     "name": "stdout",
     "output_type": "stream",
     "text": [
      "2 3 5 7 11 13 17 19 23 29 31 37 41 43 47 53 59 61 67 71 "
     ]
    }
   ],
   "source": [
    "for _ in range(20):\n",
    "    print(next(primes), end=\" \")"
   ]
  },
  {
   "cell_type": "markdown",
   "metadata": {},
   "source": [
    "## Analysis"
   ]
  },
  {
   "cell_type": "code",
   "execution_count": 37,
   "metadata": {},
   "outputs": [],
   "source": [
    "from statistics import mean"
   ]
  },
  {
   "cell_type": "code",
   "execution_count": 46,
   "metadata": {},
   "outputs": [],
   "source": [
    "def average_dist(sample_length=10, sample_quantity=10, out_type=\"list\"):\n",
    "    gen = prime_gen()\n",
    "    round_vals = 3\n",
    "    L = [] # Temporary storage of sampled primes\n",
    "    diffs = []\n",
    "    stats = {}\n",
    "\n",
    "    for _ in range(sample_quantity): # Number of samples\n",
    "        for _ in range(sample_length): # Elements of each sample\n",
    "            L.append(next(gen)) # Prime numbers generation\n",
    "        \n",
    "        # Calculating the difference between \n",
    "        # each pair of values in L and inserting \n",
    "        # the results into list D\n",
    "        D = []\n",
    "        for i in range(len(L) - 1):\n",
    "            diff = round(L[i + 1] - L[i], round_vals)\n",
    "            D.append(diff)\n",
    "        \n",
    "        diffs_mean = mean(D) # Difference\n",
    "        diffs.append(diffs_mean) # Mean calculation\n",
    "\n",
    "        if out_type  == \"dict\":\n",
    "            stats[f\"{L[0]} to {L[-1]}\"] = [(L[0], L[-1]), L, D, diffs_mean]\n",
    "\n",
    "        L=[]\n",
    "\n",
    "    if out_type == \"list\":\n",
    "        return diffs\n",
    "    if out_type == \"dict\":\n",
    "        return stats"
   ]
  },
  {
   "cell_type": "code",
   "execution_count": 48,
   "metadata": {},
   "outputs": [
    {
     "data": {
      "text/plain": [
       "{'2 to 29': [(2, 29),\n",
       "  [2, 3, 5, 7, 11, 13, 17, 19, 23, 29],\n",
       "  [1, 2, 2, 4, 2, 4, 2, 4, 6],\n",
       "  3],\n",
       " '31 to 71': [(31, 71),\n",
       "  [31, 37, 41, 43, 47, 53, 59, 61, 67, 71],\n",
       "  [6, 4, 2, 4, 6, 6, 2, 6, 4],\n",
       "  4.444444444444445],\n",
       " '73 to 113': [(73, 113),\n",
       "  [73, 79, 83, 89, 97, 101, 103, 107, 109, 113],\n",
       "  [6, 4, 6, 8, 4, 2, 4, 2, 4],\n",
       "  4.444444444444445],\n",
       " '127 to 173': [(127, 173),\n",
       "  [127, 131, 137, 139, 149, 151, 157, 163, 167, 173],\n",
       "  [4, 6, 2, 10, 2, 6, 6, 4, 6],\n",
       "  5.111111111111111],\n",
       " '179 to 229': [(179, 229),\n",
       "  [179, 181, 191, 193, 197, 199, 211, 223, 227, 229],\n",
       "  [2, 10, 2, 4, 2, 12, 12, 4, 2],\n",
       "  5.555555555555555]}"
      ]
     },
     "execution_count": 48,
     "metadata": {},
     "output_type": "execute_result"
    }
   ],
   "source": [
    "test = average_dist(sample_quantity=5, out_type=\"dict\")\n",
    "test"
   ]
  },
  {
   "cell_type": "code",
   "execution_count": 40,
   "metadata": {},
   "outputs": [],
   "source": [
    "L = [2, 3, 5, 7, 11, 13, 17, 19, 23, 29, 31]"
   ]
  },
  {
   "cell_type": "code",
   "execution_count": 41,
   "metadata": {},
   "outputs": [
    {
     "name": "stdout",
     "output_type": "stream",
     "text": [
      "[1, 2, 2, 4, 2, 4, 2, 4, 6, 2]\n"
     ]
    }
   ],
   "source": [
    "diffs = []\n",
    "\n",
    "for i in range(len(L) - 1):\n",
    "    diffs.append(L[i + 1] - L[i])\n",
    "\n",
    "print(diffs)"
   ]
  },
  {
   "cell_type": "code",
   "execution_count": 42,
   "metadata": {},
   "outputs": [
    {
     "data": {
      "text/plain": [
       "2.9"
      ]
     },
     "execution_count": 42,
     "metadata": {},
     "output_type": "execute_result"
    }
   ],
   "source": [
    "mean(diffs)"
   ]
  }
 ],
 "metadata": {
  "kernelspec": {
   "display_name": "lastpy",
   "language": "python",
   "name": "python3"
  },
  "language_info": {
   "codemirror_mode": {
    "name": "ipython",
    "version": 3
   },
   "file_extension": ".py",
   "mimetype": "text/x-python",
   "name": "python",
   "nbconvert_exporter": "python",
   "pygments_lexer": "ipython3",
   "version": "3.12.0"
  }
 },
 "nbformat": 4,
 "nbformat_minor": 2
}
